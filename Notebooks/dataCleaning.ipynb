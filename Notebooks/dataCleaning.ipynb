{
 "cells": [
  {
   "cell_type": "markdown",
   "metadata": {},
   "source": [
    "Data preperation on titanic database\n",
    "\n",
    "Link top database - https://www.kaggle.com/datasets/pavlofesenko/titanic-extended"
   ]
  },
  {
   "cell_type": "code",
   "execution_count": 1,
   "metadata": {},
   "outputs": [],
   "source": [
    "# Imports\n",
    "\n",
    "import pandas as pd\n",
    "import numpy as np\n",
    "from sklearn import preprocessing"
   ]
  },
  {
   "cell_type": "code",
   "execution_count": null,
   "metadata": {},
   "outputs": [],
   "source": [
    "# Setting up data\n",
    "\n",
    "data = \"Dataset/archive/full.csv\"\n",
    "\n",
    "# Import the csv to dataframe\n",
    "\n",
    "df = pd.read_csv(data)\n",
    "\n",
    "df.head(100)\n"
   ]
  },
  {
   "cell_type": "markdown",
   "metadata": {},
   "source": [
    "Data Preprocessing"
   ]
  },
  {
   "cell_type": "code",
   "execution_count": 4,
   "metadata": {},
   "outputs": [
    {
     "data": {
      "text/plain": [
       "(1309, 21)"
      ]
     },
     "execution_count": 4,
     "metadata": {},
     "output_type": "execute_result"
    }
   ],
   "source": [
    "df.shape"
   ]
  },
  {
   "cell_type": "code",
   "execution_count": 5,
   "metadata": {},
   "outputs": [
    {
     "data": {
      "text/plain": [
       "(1309, 14)"
      ]
     },
     "execution_count": 5,
     "metadata": {},
     "output_type": "execute_result"
    }
   ],
   "source": [
    "# Removing Columns - Name, WikiId, Name_wiki, age, body, Ticket, Cabin\n",
    "\n",
    "df2 = df.drop([\"Age\", \"Name\", \"WikiId\", \"Name_wiki\", \"Body\", \"Ticket\", \"Cabin\"], axis='columns')\n",
    "\n",
    "df2.shape"
   ]
  },
  {
   "cell_type": "code",
   "execution_count": 7,
   "metadata": {},
   "outputs": [
    {
     "name": "stdout",
     "output_type": "stream",
     "text": [
      "<class 'pandas.core.frame.DataFrame'>\n",
      "RangeIndex: 1309 entries, 0 to 1308\n",
      "Data columns (total 14 columns):\n",
      " #   Column       Non-Null Count  Dtype  \n",
      "---  ------       --------------  -----  \n",
      " 0   PassengerId  1309 non-null   int64  \n",
      " 1   Survived     891 non-null    float64\n",
      " 2   Pclass       1309 non-null   int64  \n",
      " 3   Sex          1309 non-null   object \n",
      " 4   SibSp        1309 non-null   int64  \n",
      " 5   Parch        1309 non-null   int64  \n",
      " 6   Fare         1308 non-null   float64\n",
      " 7   Embarked     1307 non-null   object \n",
      " 8   Age_wiki     1302 non-null   float64\n",
      " 9   Hometown     1304 non-null   object \n",
      " 10  Boarded      1304 non-null   object \n",
      " 11  Destination  1304 non-null   object \n",
      " 12  Lifeboat     502 non-null    object \n",
      " 13  Class        1304 non-null   float64\n",
      "dtypes: float64(4), int64(4), object(6)\n",
      "memory usage: 143.3+ KB\n"
     ]
    }
   ],
   "source": [
    "# Column information - data type, no of different values\n",
    "\n",
    "df2.info()"
   ]
  },
  {
   "cell_type": "code",
   "execution_count": null,
   "metadata": {},
   "outputs": [],
   "source": [
    "# Sorting missing values\n",
    "\n",
    "# Checking null values\n",
    "df2.isnull().any()\n",
    "\n",
    "\n",
    "# Get mean value of Fare, Class\n",
    "df2[[\"Fare\", \"Class\"]].fillna(df2[[\"Fare\", \"Class\"]].mean(numeric_only=True), inplace=True)\n",
    "\n",
    "# Removing Rows of null for survived, Age, Cabin, Embarked, Hometown, Boarded, Lifeboat\n",
    "df2.replace(\" \", np.nan)\n",
    "df2.replace(\"?\", np.nan)\n",
    "df3 = df2.dropna()\n",
    "df3.shape\n"
   ]
  },
  {
   "cell_type": "code",
   "execution_count": 9,
   "metadata": {},
   "outputs": [
    {
     "data": {
      "text/plain": [
       "1      False\n",
       "2      False\n",
       "3      False\n",
       "8      False\n",
       "9      False\n",
       "       ...  \n",
       "875    False\n",
       "879    False\n",
       "880    False\n",
       "887    False\n",
       "889    False\n",
       "Length: 343, dtype: bool"
      ]
     },
     "execution_count": 9,
     "metadata": {},
     "output_type": "execute_result"
    }
   ],
   "source": [
    "# Check duplicates\n",
    "df3.duplicated()"
   ]
  },
  {
   "cell_type": "code",
   "execution_count": null,
   "metadata": {},
   "outputs": [],
   "source": [
    "# Set numeric values for - Hometown, Boarded, Destination - using scikit-learn label encoder\n",
    "label_encoder = preprocessing.LabelEncoder()\n",
    "\n",
    "df3[\"Hometown\"] = label_encoder.fit_transform(df3[\"Hometown\"])\n",
    "df3[\"Boarded\"] = label_encoder.fit_transform(df3[\"Boarded\"])\n",
    "df3[\"Destination\"] = label_encoder.fit_transform(df3[\"Destination\"])\n",
    "df3[\"Sex\"] = label_encoder.fit_transform(df3[\"Sex\"])\n",
    "df3[\"Embarked\"] = label_encoder.fit_transform(df3[\"Embarked\"])\n",
    "df3[\"Lifeboat\"] = label_encoder.fit_transform(df3[\"Lifeboat\"])\n",
    "\n",
    "df3.head(10)"
   ]
  },
  {
   "cell_type": "markdown",
   "metadata": {},
   "source": [
    "AI Model"
   ]
  },
  {
   "cell_type": "code",
   "execution_count": 11,
   "metadata": {},
   "outputs": [],
   "source": [
    "import tensorflow\n",
    "from tensorflow import keras\n",
    "from keras.models import Sequential\n",
    "from keras.layers import Dense"
   ]
  },
  {
   "cell_type": "code",
   "execution_count": null,
   "metadata": {},
   "outputs": [],
   "source": [
    "df3.head(2)"
   ]
  },
  {
   "cell_type": "code",
   "execution_count": 18,
   "metadata": {},
   "outputs": [],
   "source": [
    "# Splitting the data\n",
    "\n",
    "x = df3.drop([\"Survived\"], axis=1)\n",
    "y = df3[\"Survived\"]"
   ]
  },
  {
   "cell_type": "code",
   "execution_count": null,
   "metadata": {},
   "outputs": [],
   "source": [
    "# Building the model layers\n",
    "model = Sequential()\n",
    "model.add(Dense(12, input_shape=(13,), activation=\"tanh\"))\n",
    "model.add(Dense(12, activation=\"tanh\"))\n",
    "model.add(Dense(1, activation=\"tanh\"))\n",
    "\n",
    "# compile model\n",
    "model.compile(loss=\"binary_crossentropy\", optimizer=\"adam\", metrics=[\"accuracy\"])\n",
    "\n",
    "# Fit model\n",
    "model.fit(x, y, epochs=50, batch_size=10)"
   ]
  },
  {
   "cell_type": "code",
   "execution_count": 67,
   "metadata": {},
   "outputs": [
    {
     "name": "stdout",
     "output_type": "stream",
     "text": [
      "\u001b[1m11/11\u001b[0m \u001b[32m━━━━━━━━━━━━━━━━━━━━\u001b[0m\u001b[37m\u001b[0m \u001b[1m0s\u001b[0m 600us/step - accuracy: 0.9915 - loss: 0.0436\n",
      "Accuracy: 98.83\n"
     ]
    }
   ],
   "source": [
    "# Evaluting the model\n",
    "_, accuracy = model.evaluate(x, y)\n",
    "print('Accuracy: %.2f' % (accuracy*100))"
   ]
  }
 ],
 "metadata": {
  "kernelspec": {
   "display_name": ".venv",
   "language": "python",
   "name": "python3"
  },
  "language_info": {
   "codemirror_mode": {
    "name": "ipython",
    "version": 3
   },
   "file_extension": ".py",
   "mimetype": "text/x-python",
   "name": "python",
   "nbconvert_exporter": "python",
   "pygments_lexer": "ipython3",
   "version": "3.12.4"
  }
 },
 "nbformat": 4,
 "nbformat_minor": 2
}
